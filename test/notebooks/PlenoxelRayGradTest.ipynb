{
 "cells": [
  {
   "cell_type": "code",
   "execution_count": 1,
   "id": "2bcf6567",
   "metadata": {},
   "outputs": [],
   "source": [
    "import svox2\n",
    "import torch\n",
    "import numpy as np\n",
    "import matplotlib.pyplot as plt"
   ]
  },
  {
   "cell_type": "code",
   "execution_count": 2,
   "id": "1854dbc7",
   "metadata": {},
   "outputs": [],
   "source": [
    "intr = np.array([[380,   0, 320, 0],\n",
    "                 [  0, 380, 180, 0],\n",
    "                 [  0,   0,   1, 0],\n",
    "                 [  0,   0,   0, 0]])\n",
    "\n",
    "c2w = np.eye(4)"
   ]
  },
  {
   "cell_type": "code",
   "execution_count": 3,
   "id": "97a578f5",
   "metadata": {},
   "outputs": [
    {
     "ename": "RuntimeError",
     "evalue": "Unexpected error from cudaGetDeviceCount(). Did you run some cuda functions before calling NumCudaDevices() that might have already set an error? Error 804: forward compatibility was attempted on non supported HW",
     "output_type": "error",
     "traceback": [
      "\u001b[0;31m---------------------------------------------------------------------------\u001b[0m",
      "\u001b[0;31mRuntimeError\u001b[0m                              Traceback (most recent call last)",
      "Input \u001b[0;32mIn [3]\u001b[0m, in \u001b[0;36m<cell line: 20>\u001b[0;34m()\u001b[0m\n\u001b[1;32m     16\u001b[0m     rays \u001b[38;5;241m=\u001b[39m svox2\u001b[38;5;241m.\u001b[39mRays(torch\u001b[38;5;241m.\u001b[39mfrom_numpy(rays_o)\u001b[38;5;241m.\u001b[39mfloat()\u001b[38;5;241m.\u001b[39mcuda(), torch\u001b[38;5;241m.\u001b[39mfrom_numpy(rays_d)\u001b[38;5;241m.\u001b[39mfloat()\u001b[38;5;241m.\u001b[39mcuda()\u001b[38;5;241m.\u001b[39mcontiguous())\n\u001b[1;32m     18\u001b[0m     \u001b[38;5;28;01mreturn\u001b[39;00m rays\n\u001b[0;32m---> 20\u001b[0m rays \u001b[38;5;241m=\u001b[39m get_camera_rays(\u001b[38;5;241m1\u001b[39m, \u001b[38;5;241m1\u001b[39m, intr, c2w)\n",
      "Input \u001b[0;32mIn [3]\u001b[0m, in \u001b[0;36mget_camera_rays\u001b[0;34m(W, H, intrinsics, c2w)\u001b[0m\n\u001b[1;32m     13\u001b[0m rays_o \u001b[38;5;241m=\u001b[39m c2w[:\u001b[38;5;241m3\u001b[39m, \u001b[38;5;241m3\u001b[39m]\u001b[38;5;241m.\u001b[39mreshape((\u001b[38;5;241m1\u001b[39m, \u001b[38;5;241m3\u001b[39m))\n\u001b[1;32m     14\u001b[0m rays_o \u001b[38;5;241m=\u001b[39m np\u001b[38;5;241m.\u001b[39mtile(rays_o, (rays_d\u001b[38;5;241m.\u001b[39mshape[\u001b[38;5;241m0\u001b[39m], \u001b[38;5;241m1\u001b[39m))  \u001b[38;5;66;03m# (H*W, 3)\u001b[39;00m\n\u001b[0;32m---> 16\u001b[0m rays \u001b[38;5;241m=\u001b[39m svox2\u001b[38;5;241m.\u001b[39mRays(\u001b[43mtorch\u001b[49m\u001b[38;5;241;43m.\u001b[39;49m\u001b[43mfrom_numpy\u001b[49m\u001b[43m(\u001b[49m\u001b[43mrays_o\u001b[49m\u001b[43m)\u001b[49m\u001b[38;5;241;43m.\u001b[39;49m\u001b[43mfloat\u001b[49m\u001b[43m(\u001b[49m\u001b[43m)\u001b[49m\u001b[38;5;241;43m.\u001b[39;49m\u001b[43mcuda\u001b[49m\u001b[43m(\u001b[49m\u001b[43m)\u001b[49m, torch\u001b[38;5;241m.\u001b[39mfrom_numpy(rays_d)\u001b[38;5;241m.\u001b[39mfloat()\u001b[38;5;241m.\u001b[39mcuda()\u001b[38;5;241m.\u001b[39mcontiguous())\n\u001b[1;32m     18\u001b[0m \u001b[38;5;28;01mreturn\u001b[39;00m rays\n",
      "File \u001b[0;32m~/.local/lib/python3.8/site-packages/torch/cuda/__init__.py:172\u001b[0m, in \u001b[0;36m_lazy_init\u001b[0;34m()\u001b[0m\n\u001b[1;32m    168\u001b[0m     \u001b[38;5;28;01mraise\u001b[39;00m \u001b[38;5;167;01mAssertionError\u001b[39;00m(\n\u001b[1;32m    169\u001b[0m         \u001b[38;5;124m\"\u001b[39m\u001b[38;5;124mlibcudart functions unavailable. It looks like you have a broken build?\u001b[39m\u001b[38;5;124m\"\u001b[39m)\n\u001b[1;32m    170\u001b[0m \u001b[38;5;66;03m# This function throws if there's a driver initialization error, no GPUs\u001b[39;00m\n\u001b[1;32m    171\u001b[0m \u001b[38;5;66;03m# are found or any other error occurs\u001b[39;00m\n\u001b[0;32m--> 172\u001b[0m \u001b[43mtorch\u001b[49m\u001b[38;5;241;43m.\u001b[39;49m\u001b[43m_C\u001b[49m\u001b[38;5;241;43m.\u001b[39;49m\u001b[43m_cuda_init\u001b[49m\u001b[43m(\u001b[49m\u001b[43m)\u001b[49m\n\u001b[1;32m    173\u001b[0m \u001b[38;5;66;03m# Some of the queued calls may reentrantly call _lazy_init();\u001b[39;00m\n\u001b[1;32m    174\u001b[0m \u001b[38;5;66;03m# we need to just return without initializing in that case.\u001b[39;00m\n\u001b[1;32m    175\u001b[0m \u001b[38;5;66;03m# However, we must not let any *other* threads in!\u001b[39;00m\n\u001b[1;32m    176\u001b[0m _tls\u001b[38;5;241m.\u001b[39mis_initializing \u001b[38;5;241m=\u001b[39m \u001b[38;5;28;01mTrue\u001b[39;00m\n",
      "\u001b[0;31mRuntimeError\u001b[0m: Unexpected error from cudaGetDeviceCount(). Did you run some cuda functions before calling NumCudaDevices() that might have already set an error? Error 804: forward compatibility was attempted on non supported HW"
     ]
    }
   ],
   "source": [
    "def get_camera_rays(W, H, intrinsics, c2w):\n",
    "    u, v = np.meshgrid(np.arange(W), np.arange(H))\n",
    "\n",
    "    u = u.reshape(-1).astype(dtype=np.float32) + 0.5  # add half pixel\n",
    "    v = v.reshape(-1).astype(dtype=np.float32) + 0.5\n",
    "    pixels = np.stack((u, v, np.ones_like(u)), axis=0)  # (3, H*W)\n",
    "\n",
    "    rays_d = np.dot(np.linalg.inv(intrinsics[:3, :3]), pixels) # sensor's location to camera\n",
    "\n",
    "    rays_d = np.dot(c2w[:3, :3], rays_d)  # (3, H*W)\n",
    "    rays_d = rays_d.transpose((1, 0))  # (H*W, 3)\n",
    "\n",
    "    rays_o = c2w[:3, 3].reshape((1, 3))\n",
    "    rays_o = np.tile(rays_o, (rays_d.shape[0], 1))  # (H*W, 3)\n",
    "\n",
    "    rays = svox2.Rays(torch.from_numpy(rays_o).float().cuda(), torch.from_numpy(rays_d).float().cuda().contiguous())\n",
    "\n",
    "    return rays\n",
    "\n",
    "rays = get_camera_rays(1, 1, intr, c2w)"
   ]
  },
  {
   "cell_type": "code",
   "execution_count": 4,
   "id": "c3190ca6",
   "metadata": {},
   "outputs": [],
   "source": [
    "grid = svox2.SparseGrid(reso=12).requires_grad_(False)\n",
    "grid.density_data.normal_()\n",
    "grid.sh_data.normal_()\n",
    "grid.basis_data.normal_()\n",
    "grid = grid.cuda().requires_grad_(True)\n",
    "grid = grid.float()"
   ]
  },
  {
   "cell_type": "markdown",
   "id": "558afdf8",
   "metadata": {},
   "source": [
    "depth = f(rays)\n",
    "depth_np = depth.view(640, 480).detach().cpu().numpy()\n",
    "plt.imshow(depth_np)"
   ]
  },
  {
   "cell_type": "code",
   "execution_count": 5,
   "id": "52d3b496",
   "metadata": {},
   "outputs": [],
   "source": [
    "# density_data = grid.density_data\n",
    "# inp = (torch.rand_like(density_data)).float().requires_grad_(True)\n",
    "\n",
    "rays_o_data = rays.origins\n",
    "inp = rays_o_data.float().requires_grad_(True)"
   ]
  },
  {
   "cell_type": "code",
   "execution_count": 6,
   "id": "726c56fe",
   "metadata": {},
   "outputs": [],
   "source": [
    "def fr(x):\n",
    "    cgrid = grid._to_cpp()\n",
    "    cgrid.density_data = cgrid.density_data.float()\n",
    "#     cgrid.basis_data = cgrid.basis_data.float()\n",
    "#     cgrid.background_data = cgrid.background_data.float()\n",
    "    cgrid.sh_data = cgrid.sh_data.float()\n",
    "    rays_data = svox2.Rays(x, rays.dirs)\n",
    "    out = svox2.svox2._RayRenderFunction.apply(grid.density_data, grid.sh_data, None, None,\n",
    "                                                  cgrid, rays_data._to_cpp(), grid.opt._to_cpp())\n",
    "    #print(out.mean(), out.std())\n",
    "    return out\n",
    "\n",
    "def fv(x):\n",
    "    cgrid = grid._to_cpp()\n",
    "    cgrid.density_data = x\n",
    "    cgrid.background_data = False\n",
    "    cgrid.basis_data = cgrid.basis_data.double()\n",
    "    cgrid.background_data = cgrid.background_data.double()\n",
    "    cgrid.sh_data = cgrid.sh_data.double()\n",
    "    out = svox2.svox2._VolumeRenderFunction.apply(x, grid.sh_data, None, None,\n",
    "                                                  cgrid, rays._to_cpp(), grid.opt._to_cpp(), \"cuvol\")\n",
    "    #print(out.mean(), out.std())\n",
    "    return out\n",
    "\n",
    "def fd(x):\n",
    "    cgrid = grid.float()._to_cpp()\n",
    "    cgrid.density_data = x\n",
    "    out = svox2.svox2._DepthRenderFunction.apply(x, \n",
    "                                                  cgrid, rays._to_cpp(), grid.opt._to_cpp())\n",
    "    #print(out.mean(), out.std())\n",
    "    return out"
   ]
  },
  {
   "cell_type": "code",
   "execution_count": 7,
   "id": "c1ca098d",
   "metadata": {},
   "outputs": [],
   "source": [
    "@torch.no_grad()\n",
    "def finite_diff(f, x, eps=1e-4):\n",
    "    N = x.shape[-1]\n",
    "    g = torch.zeros(N, 3)\n",
    "    I = torch.eye(N).type_as(x)\n",
    "    for i in range(N):\n",
    "        f1 = f(x + eps * I[i])\n",
    "        f2 = f(x - eps * I[i])\n",
    "        g[i] = (f1 - f2) / (2.0 * eps)\n",
    "    return g\n",
    "\n",
    "def autodiff(f, x):\n",
    "#     x = x.requires_grad_(True)\n",
    "#     y = f(x)\n",
    "#     g = torch.autograd.grad(y, x)[0]\n",
    "    N = x.shape[-1]\n",
    "    g = torch.zeros(x.shape[0], 3)\n",
    "    x = x.requires_grad_(True)\n",
    "    y = f(x)\n",
    "    for i in range(3):\n",
    "        g[:, i] = (torch.autograd.grad(y[0][i], x, retain_graph=True, allow_unused=True)[0]).reshape(-1)\n",
    "    return g\n",
    "\n",
    "def relative_diff(f1, f2, eps=1e-12):\n",
    "    f1n = f1.norm()\n",
    "    f2n = f2.norm()\n",
    "    if f2n < eps:\n",
    "        return torch.tensor(0.)\n",
    "    \n",
    "    fdn = (f2 - f1).norm()\n",
    "    return fdn / f2n"
   ]
  },
  {
   "cell_type": "code",
   "execution_count": 12,
   "id": "c4912f78",
   "metadata": {},
   "outputs": [
    {
     "ename": "RuntimeError",
     "evalue": "One of the differentiated Tensors appears to not have been used in the graph. Set allow_unused=True if this is the desired behavior.",
     "output_type": "error",
     "traceback": [
      "\u001b[0;31m---------------------------------------------------------------------------\u001b[0m",
      "\u001b[0;31mRuntimeError\u001b[0m                              Traceback (most recent call last)",
      "Input \u001b[0;32mIn [12]\u001b[0m, in \u001b[0;36m<cell line: 2>\u001b[0;34m()\u001b[0m\n\u001b[1;32m      1\u001b[0m fdiff \u001b[38;5;241m=\u001b[39m finite_diff(fr, inp, eps\u001b[38;5;241m=\u001b[39m\u001b[38;5;241m1e-1\u001b[39m)\n\u001b[0;32m----> 2\u001b[0m fad \u001b[38;5;241m=\u001b[39m autodiff(fr, inp)\n",
      "Input \u001b[0;32mIn [7]\u001b[0m, in \u001b[0;36mautodiff\u001b[0;34m(f, x)\u001b[0m\n\u001b[1;32m     19\u001b[0m y \u001b[38;5;241m=\u001b[39m f(x)\n\u001b[1;32m     20\u001b[0m \u001b[38;5;28;01mfor\u001b[39;00m i \u001b[38;5;129;01min\u001b[39;00m \u001b[38;5;28mrange\u001b[39m(\u001b[38;5;241m3\u001b[39m):\n\u001b[0;32m---> 21\u001b[0m     g[:, i] \u001b[38;5;241m=\u001b[39m (\u001b[43mtorch\u001b[49m\u001b[38;5;241;43m.\u001b[39;49m\u001b[43mautograd\u001b[49m\u001b[38;5;241;43m.\u001b[39;49m\u001b[43mgrad\u001b[49m\u001b[43m(\u001b[49m\u001b[43my\u001b[49m\u001b[43m[\u001b[49m\u001b[38;5;241;43m0\u001b[39;49m\u001b[43m]\u001b[49m\u001b[43m[\u001b[49m\u001b[43mi\u001b[49m\u001b[43m]\u001b[49m\u001b[43m,\u001b[49m\u001b[43m \u001b[49m\u001b[43mx\u001b[49m\u001b[43m,\u001b[49m\u001b[43m \u001b[49m\u001b[43mretain_graph\u001b[49m\u001b[38;5;241;43m=\u001b[39;49m\u001b[38;5;28;43;01mTrue\u001b[39;49;00m\u001b[43m)\u001b[49m[\u001b[38;5;241m0\u001b[39m])\u001b[38;5;241m.\u001b[39mreshape(\u001b[38;5;241m-\u001b[39m\u001b[38;5;241m1\u001b[39m)\n\u001b[1;32m     22\u001b[0m \u001b[38;5;28;01mreturn\u001b[39;00m g\n",
      "File \u001b[0;32m~/.local/lib/python3.8/site-packages/torch/autograd/__init__.py:226\u001b[0m, in \u001b[0;36mgrad\u001b[0;34m(outputs, inputs, grad_outputs, retain_graph, create_graph, only_inputs, allow_unused)\u001b[0m\n\u001b[1;32m    223\u001b[0m \u001b[38;5;28;01mif\u001b[39;00m retain_graph \u001b[38;5;129;01mis\u001b[39;00m \u001b[38;5;28;01mNone\u001b[39;00m:\n\u001b[1;32m    224\u001b[0m     retain_graph \u001b[38;5;241m=\u001b[39m create_graph\n\u001b[0;32m--> 226\u001b[0m \u001b[38;5;28;01mreturn\u001b[39;00m \u001b[43mVariable\u001b[49m\u001b[38;5;241;43m.\u001b[39;49m\u001b[43m_execution_engine\u001b[49m\u001b[38;5;241;43m.\u001b[39;49m\u001b[43mrun_backward\u001b[49m\u001b[43m(\u001b[49m\n\u001b[1;32m    227\u001b[0m \u001b[43m    \u001b[49m\u001b[43moutputs\u001b[49m\u001b[43m,\u001b[49m\u001b[43m \u001b[49m\u001b[43mgrad_outputs_\u001b[49m\u001b[43m,\u001b[49m\u001b[43m \u001b[49m\u001b[43mretain_graph\u001b[49m\u001b[43m,\u001b[49m\u001b[43m \u001b[49m\u001b[43mcreate_graph\u001b[49m\u001b[43m,\u001b[49m\n\u001b[1;32m    228\u001b[0m \u001b[43m    \u001b[49m\u001b[43minputs\u001b[49m\u001b[43m,\u001b[49m\u001b[43m \u001b[49m\u001b[43mallow_unused\u001b[49m\u001b[43m,\u001b[49m\u001b[43m \u001b[49m\u001b[43maccumulate_grad\u001b[49m\u001b[38;5;241;43m=\u001b[39;49m\u001b[38;5;28;43;01mFalse\u001b[39;49;00m\u001b[43m)\u001b[49m\n",
      "\u001b[0;31mRuntimeError\u001b[0m: One of the differentiated Tensors appears to not have been used in the graph. Set allow_unused=True if this is the desired behavior."
     ]
    }
   ],
   "source": [
    "fdiff = finite_diff(fr, inp, eps=1e-1)\n",
    "fad = autodiff(fr, inp)\n"
   ]
  },
  {
   "cell_type": "code",
   "execution_count": 9,
   "id": "f3f50c54",
   "metadata": {},
   "outputs": [
    {
     "ename": "NameError",
     "evalue": "name 'fad' is not defined",
     "output_type": "error",
     "traceback": [
      "\u001b[0;31m---------------------------------------------------------------------------\u001b[0m",
      "\u001b[0;31mNameError\u001b[0m                                 Traceback (most recent call last)",
      "Input \u001b[0;32mIn [9]\u001b[0m, in \u001b[0;36m<cell line: 1>\u001b[0;34m()\u001b[0m\n\u001b[0;32m----> 1\u001b[0m relative_diff(fad, fdiff)\n",
      "\u001b[0;31mNameError\u001b[0m: name 'fad' is not defined"
     ]
    }
   ],
   "source": [
    "relative_diff(fad, fdiff)"
   ]
  },
  {
   "cell_type": "code",
   "execution_count": 10,
   "id": "bb99445c",
   "metadata": {},
   "outputs": [],
   "source": [
    "eps = np.linspace(0.1, 1e-17, 1000)\n",
    "err = []\n",
    "rerr = []\n",
    "fdn = []\n",
    "fan = []\n",
    "for ep in eps:\n",
    "#     f1 = autodiff(fr, inp)\n",
    "    fdiff = finite_diff(fr, inp, eps=ep)\n",
    "#     err.append((f1 - fdiff).norm().item())\n",
    "#     rerr.append(relative_diff(f1, fdiff).item())\n",
    "    fdn.append(fdiff.norm().item())\n",
    "#     fan.append(f1.norm().item())"
   ]
  },
  {
   "cell_type": "code",
   "execution_count": 11,
   "id": "bbc40b0d",
   "metadata": {},
   "outputs": [
    {
     "data": {
      "text/plain": [
       "<matplotlib.legend.Legend at 0x7f72592966d0>"
      ]
     },
     "execution_count": 11,
     "metadata": {},
     "output_type": "execute_result"
    },
    {
     "data": {
      "image/png": "[encoded data removed]",
      "text/plain": [
       "<Figure size 432x288 with 1 Axes>"
      ]
     },
     "metadata": {
      "needs_background": "light"
     },
     "output_type": "display_data"
    }
   ],
   "source": [
    "xaxis = -1 * np.log10(eps)\n",
    "plt.style.use(\"seaborn-whitegrid\")\n",
    "# plt.plot(xaxis, err, label=\"Absolute Error\", c ='orange')\n",
    "# plt.plot(xaxis, rerr, label=\"Relative Error\")\n",
    "plt.plot(xaxis, fdn, label=\"Norm of finite difference gradient\")\n",
    "# plt.plot(xaxis, fan, label=\"Norm of analytical gradient\")\n",
    "plt.legend()\n",
    "# plt.xlabel(\"-Log10(Epsilon)\")\n",
    "# plt.ylabel(\"Error\")\n",
    "# plt.title(\"Relative gradient error as a function of epsilon\")"
   ]
  },
  {
   "cell_type": "code",
   "execution_count": null,
   "id": "0577253c",
   "metadata": {},
   "outputs": [],
   "source": []
  }
 ],
 "metadata": {
  "kernelspec": {
   "display_name": "plenoxel_grad",
   "language": "python",
   "name": "plenoxel_grad"
  },
  "language_info": {
   "codemirror_mode": {
    "name": "ipython",
    "version": 3
   },
   "file_extension": ".py",
   "mimetype": "text/x-python",
   "name": "python",
   "nbconvert_exporter": "python",
   "pygments_lexer": "ipython3",
   "version": "3.8.8"
  }
 },
 "nbformat": 4,
 "nbformat_minor": 5
}
