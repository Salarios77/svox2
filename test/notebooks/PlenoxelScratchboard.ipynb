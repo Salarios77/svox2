{
 "cells": [
  {
   "cell_type": "code",
   "execution_count": 1,
   "id": "2bcf6567",
   "metadata": {},
   "outputs": [],
   "source": [
    "import svox2\n",
    "import torch\n",
    "import numpy as np\n",
    "import matplotlib.pyplot as plt"
   ]
  },
  {
   "cell_type": "code",
   "execution_count": 2,
   "id": "1854dbc7",
   "metadata": {},
   "outputs": [],
   "source": [
    "intr = np.array([[380,   0, 320, 0],\n",
    "                 [  0, 380, 180, 0],\n",
    "                 [  0,   0,   1, 0],\n",
    "                 [  0,   0,   0, 0]])\n",
    "\n",
    "c2w = np.eye(4)"
   ]
  },
  {
   "cell_type": "code",
   "execution_count": 3,
   "id": "97a578f5",
   "metadata": {},
   "outputs": [],
   "source": [
    "def get_camera_rays(W, H, intrinsics, c2w):\n",
    "    u, v = np.meshgrid(np.arange(W), np.arange(H))\n",
    "\n",
    "    u = u.reshape(-1).astype(dtype=np.float32) + 0.5  # add half pixel\n",
    "    v = v.reshape(-1).astype(dtype=np.float32) + 0.5\n",
    "    pixels = np.stack((u, v, np.ones_like(u)), axis=0)  # (3, H*W)\n",
    "\n",
    "    rays_d = np.dot(np.linalg.inv(intrinsics[:3, :3]), pixels) # sensor's location to camera\n",
    "\n",
    "    rays_d = np.dot(c2w[:3, :3], rays_d)  # (3, H*W)\n",
    "    rays_d = rays_d.transpose((1, 0))  # (H*W, 3)\n",
    "\n",
    "    rays_o = c2w[:3, 3].reshape((1, 3))\n",
    "    rays_o = np.tile(rays_o, (rays_d.shape[0], 1))  # (H*W, 3)\n",
    "\n",
    "    rays = svox2.Rays(torch.from_numpy(rays_o).double().cuda(), torch.from_numpy(rays_d).double().cuda().contiguous())\n",
    "\n",
    "    return rays\n",
    "\n",
    "rays = get_camera_rays(1, 1, intr, c2w)"
   ]
  },
  {
   "cell_type": "code",
   "execution_count": 4,
   "id": "c3190ca6",
   "metadata": {},
   "outputs": [],
   "source": [
    "grid = svox2.SparseGrid(reso=12).requires_grad_(False)\n",
    "grid.sh_data.normal_()\n",
    "grid = grid.cuda().requires_grad_(True)\n",
    "density_data = grid.density_data"
   ]
  },
  {
   "cell_type": "code",
   "execution_count": 5,
   "id": "2068b3e4",
   "metadata": {},
   "outputs": [],
   "source": [
    "grid = grid.double()"
   ]
  },
  {
   "cell_type": "markdown",
   "id": "558afdf8",
   "metadata": {},
   "source": [
    "depth = f(rays)\n",
    "depth_np = depth.view(640, 480).detach().cpu().numpy()\n",
    "plt.imshow(depth_np)"
   ]
  },
  {
   "cell_type": "code",
   "execution_count": 6,
   "id": "52d3b496",
   "metadata": {},
   "outputs": [],
   "source": [
    "inp = (torch.rand_like(density_data)).double().requires_grad_(True)\n"
   ]
  },
  {
   "cell_type": "code",
   "execution_count": 7,
   "id": "726c56fe",
   "metadata": {},
   "outputs": [],
   "source": [
    "def fv(x):\n",
    "    cgrid = grid._to_cpp()\n",
    "    cgrid.density_data = x\n",
    "    cgrid.background_data = False\n",
    "    cgrid.basis_data = cgrid.basis_data.double()\n",
    "    cgrid.background_data = cgrid.background_data.double()\n",
    "    cgrid.sh_data = cgrid.sh_data.double()\n",
    "    out = svox2.svox2._VolumeRenderFunction.apply(x, grid.sh_data, None, None,\n",
    "                                                  cgrid, rays._to_cpp(), grid.opt._to_cpp(), \"cuvol\")\n",
    "    #print(out.mean(), out.std())\n",
    "    return out\n",
    "\n",
    "def fd(x):\n",
    "    cgrid = grid.double()._to_cpp()\n",
    "    cgrid.density_data = x\n",
    "    out = svox2.svox2._DepthRenderFunction.apply(x, \n",
    "                                                  cgrid, rays._to_cpp(), grid.opt._to_cpp())\n",
    "    #print(out.mean(), out.std())\n",
    "    return out\n",
    "\n",
    "f = fd"
   ]
  },
  {
   "cell_type": "code",
   "execution_count": 47,
   "id": "c1ca098d",
   "metadata": {},
   "outputs": [],
   "source": [
    "@torch.no_grad()\n",
    "def finite_diff(f, x, eps=1e-4):\n",
    "    N = x.shape[-1]\n",
    "    g = torch.zeros_like(x)\n",
    "    I = torch.eye(N).type_as(x)\n",
    "    for i in range(N):\n",
    "        f1 = f(x + eps * I[i])\n",
    "        f2 = f(x - eps * I[i])\n",
    "        g[i] = (f1 - f2) / (2 * eps)\n",
    "    return g\n",
    "\n",
    "def autodiff(f, x):\n",
    "    x = x.requires_grad_(True)\n",
    "    y = f(x)\n",
    "    g = torch.autograd.grad(y, x)[0]\n",
    "    return g\n",
    "\n",
    "def relative_diff(f1, f2, eps=1e-12):\n",
    "    f1n = f1.norm()\n",
    "    f2n = f2.norm()\n",
    "    if f2n < eps:\n",
    "        return torch.tensor(0.)\n",
    "    \n",
    "    fdn = (f2 - f1).norm()\n",
    "    return fdn / f2n"
   ]
  },
  {
   "cell_type": "code",
   "execution_count": 48,
   "id": "c4912f78",
   "metadata": {},
   "outputs": [],
   "source": [
    "fdiff = finite_diff(fd, inp, eps=1e-12)\n",
    "fad = autodiff(fd, inp)"
   ]
  },
  {
   "cell_type": "code",
   "execution_count": 49,
   "id": "f3f50c54",
   "metadata": {},
   "outputs": [
    {
     "data": {
      "text/plain": [
       "tensor(0.)"
      ]
     },
     "execution_count": 49,
     "metadata": {},
     "output_type": "execute_result"
    }
   ],
   "source": [
    "relative_diff(fad, fdiff)"
   ]
  },
  {
   "cell_type": "code",
   "execution_count": 53,
   "id": "bb99445c",
   "metadata": {},
   "outputs": [],
   "source": [
    "eps = np.linspace(0.1, 1e-17, 1000)\n",
    "err = []\n",
    "rerr = []\n",
    "fdn = []\n",
    "fan = []\n",
    "for ep in eps:\n",
    "    f1 = autodiff(fd, inp)\n",
    "    fdiff = finite_diff(fd, inp, eps=ep)\n",
    "    err.append((f1 - fdiff).norm().item())\n",
    "    rerr.append(relative_diff(f1, fdiff).item())\n",
    "    fdn.append(fdiff.norm().item())\n",
    "    fan.append(f1.norm().item())"
   ]
  },
  {
   "cell_type": "code",
   "execution_count": 56,
   "id": "bbc40b0d",
   "metadata": {},
   "outputs": [
    {
     "data": {
      "text/plain": [
       "Text(0.5, 1.0, 'Relative gradient error as a function of epsilon')"
      ]
     },
     "execution_count": 56,
     "metadata": {},
     "output_type": "execute_result"
    },
    {
     "data": {
      "image/png": "[encoded data removed]",
      "text/plain": [
       "<Figure size 576x396 with 1 Axes>"
      ]
     },
     "metadata": {},
     "output_type": "display_data"
    }
   ],
   "source": [
    "xaxis = -1 * np.log10(eps)\n",
    "plt.style.use(\"seaborn-whitegrid\")\n",
    "plt.plot(xaxis, err, label=\"Absolute Error\", c ='orange')\n",
    "plt.plot(xaxis, rerr, label=\"Relative Error\")\n",
    "plt.plot(xaxis, fdn, label=\"Norm of finite difference gradient\")\n",
    "plt.plot(xaxis, fan, label=\"Norm of analytical gradient\")\n",
    "plt.legend()\n",
    "plt.xlabel(\"-Log10(Epsilon)\")\n",
    "plt.ylabel(\"Error\")\n",
    "plt.title(\"Relative gradient error as a function of epsilon\")"
   ]
  },
  {
   "cell_type": "code",
   "execution_count": null,
   "id": "0577253c",
   "metadata": {},
   "outputs": [],
   "source": []
  }
 ],
 "metadata": {
  "kernelspec": {
   "display_name": "Python 3 (ipykernel)",
   "language": "python",
   "name": "python3"
  },
  "language_info": {
   "codemirror_mode": {
    "name": "ipython",
    "version": 3
   },
   "file_extension": ".py",
   "mimetype": "text/x-python",
   "name": "python",
   "nbconvert_exporter": "python",
   "pygments_lexer": "ipython3",
   "version": "3.8.8"
  }
 },
 "nbformat": 4,
 "nbformat_minor": 5
}
